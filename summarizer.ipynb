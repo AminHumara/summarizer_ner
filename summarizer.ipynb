{
  "nbformat": 4,
  "nbformat_minor": 0,
  "metadata": {
    "colab": {
      "provenance": [],
      "gpuType": "T4"
    },
    "kernelspec": {
      "name": "python3",
      "display_name": "Python 3"
    },
    "language_info": {
      "name": "python"
    },
    "accelerator": "GPU"
  },
  "cells": [
    {
      "cell_type": "code",
      "source": [
        "import requests\n",
        "import re\n",
        "import spacy\n",
        "import torch\n",
        "from collections import Counter\n",
        "from bs4 import BeautifulSoup\n",
        "from transformers import BartTokenizer, pipeline, AutoModelForQuestionAnswering, AutoTokenizer"
      ],
      "metadata": {
        "id": "ThWoxN1VN5IM"
      },
      "execution_count": 2,
      "outputs": []
    },
    {
      "cell_type": "code",
      "source": [
        "# Load NLP models\n",
        "nlp = spacy.load(\"en_core_web_sm\")\n",
        "tokenizer = BartTokenizer.from_pretrained(\"facebook/bart-large-cnn\")\n",
        "\n",
        "# Load QA model\n",
        "qa_model = AutoModelForQuestionAnswering.from_pretrained(\"deepset/roberta-base-squad2\")\n",
        "qa_tokenizer = AutoTokenizer.from_pretrained(\"deepset/roberta-base-squad2\")\n",
        "qa_pipeline = pipeline(\"question-answering\", model=qa_model, tokenizer=qa_tokenizer)\n",
        "\n",
        "\n",
        "def scrape_article(url):\n",
        "    response = requests.get(url)\n",
        "    soup = BeautifulSoup(response.text, 'html.parser')\n",
        "    article_text = ' '.join([p.get_text() for p in soup.find_all('p')][:-1])\n",
        "    return article_text\n",
        "\n",
        "\n",
        "def extract_important_entities(text, top_n=5):\n",
        "    doc = nlp(text)\n",
        "    entities = [(ent.text, ent.label_) for ent in doc.ents]\n",
        "    prioritized_types = [\"ORG\", \"PERSON\", \"GPE\"]\n",
        "    filtered_entities = [ent for ent in entities if ent[1] in prioritized_types]\n",
        "    entity_counter = Counter([ent[0] for ent in filtered_entities])\n",
        "    return entity_counter.most_common(top_n)\n",
        "\n",
        "\n",
        "def clean_text(text):\n",
        "    text = text.replace(\"\\u200b\", \"\")\n",
        "    text = re.sub(r\"\\s+\", \" \", text)\n",
        "    return text.strip()\n",
        "\n",
        "\n",
        "def summarize_text(text, max_input_length=1023, max_length=200, min_length=100, device=\"cuda\"):\n",
        "    model_id = \"facebook/bart-large-cnn\"\n",
        "    summarizer = pipeline(\"summarization\", model=model_id, device=0 if device == \"cuda\" and torch.cuda.is_available() else -1)\n",
        "\n",
        "    inputs = tokenizer(text, return_tensors=\"pt\", truncation=True, max_length=max_input_length)\n",
        "    truncated_text = tokenizer.decode(inputs['input_ids'][0], skip_special_tokens=True)\n",
        "\n",
        "    summary = summarizer(truncated_text, max_length=max_length, min_length=min_length, do_sample=False)\n",
        "    return summary[0]['summary_text']\n",
        "\n",
        "\n",
        "def find_relevant_sentences(text, entity):\n",
        "    \"\"\"\n",
        "    Extract sentences containing the entity for better context in QA.\n",
        "    \"\"\"\n",
        "    sentences = re.split(r'(?<=[.!?])\\s+', text)  # Split into sentences\n",
        "    relevant_sentences = [s for s in sentences if entity in s]  # Keep sentences mentioning entity\n",
        "    return \" \".join(relevant_sentences)\n",
        "\n",
        "\n",
        "def ask_questions(text, entities):\n",
        "    \"\"\"\n",
        "    Generates questions and extracts answers using the QA model.\n",
        "    \"\"\"\n",
        "    questions_and_answers = []\n",
        "\n",
        "    for entity, _ in entities:\n",
        "        question = f\"What is said about {entity} in the text?\"\n",
        "        answer = qa_pipeline(question=question, context=text)\n",
        "        questions_and_answers.append((question, answer['answer'] if answer['score'] >= 0.00001 else \"No clear answer found.\"))\n",
        "\n",
        "    return questions_and_answers\n",
        "\n",
        "def display_long_string(text, line_width=80):\n",
        "    for i in range(0, len(text), line_width):\n",
        "        print(text[i:i + line_width])"
      ],
      "metadata": {
        "colab": {
          "base_uri": "https://localhost:8080/"
        },
        "id": "PRHfSzg3mT-G",
        "outputId": "600eff31-7137-4495-9081-f203ed7fa33c"
      },
      "execution_count": 69,
      "outputs": [
        {
          "output_type": "stream",
          "name": "stderr",
          "text": [
            "Device set to use cuda:0\n"
          ]
        }
      ]
    },
    {
      "cell_type": "code",
      "source": [
        "# 🔹 RUN SCRIPT 🔹\n",
        "url = 'https://edition.cnn.com/2025/02/23/world/charts-ukraine-war-status-dg/index.html?iid=cnn_buildContentRecirc_end_recirc'\n",
        "\n",
        "# Get and clean article text\n",
        "text = scrape_article(url)\n",
        "cleaned_text = clean_text(text)\n",
        "\n",
        "# Summarize the article (long version for q&a, short version for display)\n",
        "summary_long = summarize_text(cleaned_text, max_length=400, min_length=300)\n",
        "summary_short = summarize_text(cleaned_text, max_length=150, min_length=70)"
      ],
      "metadata": {
        "colab": {
          "base_uri": "https://localhost:8080/"
        },
        "id": "8h2zA17QnpIs",
        "outputId": "04c1d844-9486-468c-a314-eba30168d554"
      },
      "execution_count": 55,
      "outputs": [
        {
          "output_type": "stream",
          "name": "stderr",
          "text": [
            "Device set to use cuda:0\n",
            "Device set to use cuda:0\n"
          ]
        }
      ]
    },
    {
      "cell_type": "code",
      "source": [
        "# Extract important entities\n",
        "important_entities = extract_important_entities(summary_long, top_n=5)\n",
        "\n",
        "# Generate Q&A\n",
        "qa_results = ask_questions(summary_long, important_entities)\n",
        "\n",
        "# Display results\n",
        "print(\"\\n🔹 SUMMARY:\\n\")\n",
        "display_long_string(summary_short, 80)\n",
        "print(\"\\n🔹 IMPORTANT ENTITIES:\\n\", important_entities)\n",
        "print(\"\\n🔹 Q&A:\")\n",
        "for q, a in qa_results:\n",
        "    print(f\"❓ {q}\\n➡️ {a}\\n\")"
      ],
      "metadata": {
        "colab": {
          "base_uri": "https://localhost:8080/"
        },
        "id": "Narld_2iBnox",
        "outputId": "7d1adc0e-4578-4125-91ce-c949b7decf6c"
      },
      "execution_count": 71,
      "outputs": [
        {
          "output_type": "stream",
          "name": "stdout",
          "text": [
            "\n",
            "🔹 SUMMARY:\n",
            "\n",
            "Since Russia launched its full-scale invasion in 2022, Ukraine has lost about 11\n",
            "% of its land. Millions of Ukrainians have been uprooted with thousands killed o\n",
            "r injured. The United States has been the biggest single contributor of funding \n",
            "for Ukraine since the war began in 2022. Ukraine and its European allies are scr\n",
            "ambling to adapt to the new approach from the United States.\n",
            "\n",
            "🔹 IMPORTANT ENTITIES:\n",
            " [('Ukraine', 4), ('US', 2), ('UN', 2), ('Russia', 1), ('The United States', 1)]\n",
            "\n",
            "🔹 Q&A:\n",
            "❓ What is said about Ukraine in the text?\n",
            "➡️ Millions of Ukrainians have been uprooted with thousands killed or injured\n",
            "\n",
            "❓ What is said about US in the text?\n",
            "➡️ The United States has been the biggest single contributor of funding for Ukraine\n",
            "\n",
            "❓ What is said about UN in the text?\n",
            "➡️ Human Rights Office\n",
            "\n",
            "❓ What is said about Russia in the text?\n",
            "➡️ Russia launched its full-scale invasion\n",
            "\n",
            "❓ What is said about The United States in the text?\n",
            "➡️ The United States has been the biggest single contributor of funding for Ukraine\n",
            "\n"
          ]
        }
      ]
    },
    {
      "cell_type": "code",
      "source": [],
      "metadata": {
        "id": "v_bEUHQAIqLJ"
      },
      "execution_count": null,
      "outputs": []
    }
  ]
}